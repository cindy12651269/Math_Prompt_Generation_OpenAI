{
  "nbformat": 4,
  "nbformat_minor": 0,
  "metadata": {
    "colab": {
      "provenance": [],
      "authorship_tag": "ABX9TyNOg7R56kABMA4OzHrrnBvj",
      "include_colab_link": true
    },
    "kernelspec": {
      "name": "python3",
      "display_name": "Python 3"
    },
    "language_info": {
      "name": "python"
    }
  },
  "cells": [
    {
      "cell_type": "markdown",
      "metadata": {
        "id": "view-in-github",
        "colab_type": "text"
      },
      "source": [
        "<a href=\"https://colab.research.google.com/github/cindy12651269/Math_Prompt_Generation_OpenAI/blob/cindy12651269%2Fhw1/Math_Prompt_Generation_OpenAI.ipynb\" target=\"_parent\"><img src=\"https://colab.research.google.com/assets/colab-badge.svg\" alt=\"Open In Colab\"/></a>"
      ]
    },
    {
      "cell_type": "code",
      "execution_count": 1,
      "metadata": {
        "id": "pUkNtC3KcHaz"
      },
      "outputs": [],
      "source": [
        "from google.colab import userdata\n",
        "openai_api_key = userdata.get('openai_api_key')"
      ]
    },
    {
      "cell_type": "code",
      "source": [
        "import requests\n",
        "import json\n",
        "from pprint import pp"
      ],
      "metadata": {
        "id": "kmBvWC9Vci76"
      },
      "execution_count": 2,
      "outputs": []
    },
    {
      "cell_type": "code",
      "source": [
        "# Function to make a request to the OpenAI API and get a completion\n",
        "def get_completion(messages, model=\"gpt-4-turbo\", temperature=0, max_tokens=1000):\n",
        "    payload = {\n",
        "        \"model\": model,\n",
        "        \"temperature\": temperature,\n",
        "        \"messages\": messages,\n",
        "        \"max_tokens\": max_tokens\n",
        "    }\n",
        "\n",
        "    headers = {\n",
        "        \"Authorization\": f'Bearer {openai_api_key}',\n",
        "        \"Content-Type\": \"application/json\"\n",
        "    }\n",
        "\n",
        "    response = requests.post('https://api.openai.com/v1/chat/completions', headers=headers, data=json.dumps(payload))\n",
        "    obj = json.loads(response.text)\n",
        "\n",
        "    if response.status_code == 200:\n",
        "        return obj[\"choices\"][0][\"message\"][\"content\"]\n",
        "    else:\n",
        "        return obj[\"error\"]"
      ],
      "metadata": {
        "id": "J9_SaeO_c2a8"
      },
      "execution_count": 4,
      "outputs": []
    },
    {
      "cell_type": "code",
      "source": [
        "# Define function to generate a math problem based on a given topic both in English and Chinese\n",
        "def generate_math_problem(topic, difficulty, problem_type, language=\"en\"):\n",
        "    if language == \"zh\":  # If the language is Chinese\n",
        "        system_message = \"你是一個有幫助的助理，會生成數學問題。\"\n",
        "        user_message = f\"生成一個{difficulty}的{problem_type}，主題是'{topic}'。請用繁體中文，並且使它具有挑戰性。\"\n",
        "    else:  # Default to English\n",
        "        system_message = \"You are a helpful assistant that generates math problems.\"\n",
        "        user_message = f\"Generate a {difficulty} {problem_type} for the topic '{topic}'. Make it complex and challenging.\"\n",
        "\n",
        "    messages = [\n",
        "        {\"role\": \"system\", \"content\": system_message},\n",
        "        {\"role\": \"user\", \"content\": user_message}\n",
        "    ]\n",
        "\n",
        "    problem = get_completion(messages)\n",
        "    return problem"
      ],
      "metadata": {
        "id": "HdW5RgVbeWp3"
      },
      "execution_count": 11,
      "outputs": []
    },
    {
      "cell_type": "code",
      "source": [
        "# Define function to generate the answer to the math problem in both English and Chinese\n",
        "def generate_math_answer(problem, language=\"en\"):\n",
        "    if language == \"zh\":  # If the language is Chinese\n",
        "        system_message = \"你是一個有幫助的助理，會解答數學問題。\"\n",
        "        user_message = f\"請解答這個數學問題：{problem}\"\n",
        "    else:  # Default to English\n",
        "        system_message = \"You are a helpful assistant that solves math problems.\"\n",
        "        user_message = f\"Solve this math problem: {problem}\"\n",
        "\n",
        "    messages = [\n",
        "        {\"role\": \"system\", \"content\": system_message},\n",
        "        {\"role\": \"user\", \"content\": user_message}\n",
        "    ]\n",
        "\n",
        "    answer = get_completion(messages)\n",
        "    return answer"
      ],
      "metadata": {
        "id": "3fSvHXYxgA6E"
      },
      "execution_count": 12,
      "outputs": []
    },
    {
      "cell_type": "code",
      "source": [
        "# Main function to prompt the user for input and generate a more complex math problem in Chinese or English\n",
        "if __name__ == \"__main__\":\n",
        "    print(\"Choose a math topic from the following options:\")\n",
        "    print(\"1. Algebra\")\n",
        "    print(\"2. Geometry\")\n",
        "    print(\"3. Calculus\")\n",
        "    print(\"4. Probability and Statistics\")\n",
        "    print(\"5. Linear Algebra\")\n",
        "\n",
        "    topic_choice = input(\"Enter the number corresponding to the topic (1-5): \")\n",
        "\n",
        "    topic_mapping = {\n",
        "        \"1\": \"Algebra\",\n",
        "        \"2\": \"Geometry\",\n",
        "        \"3\": \"Calculus\",\n",
        "        \"4\": \"Probability and Statistics\",\n",
        "        \"5\": \"Linear Algebra\"\n",
        "    }\n",
        "\n",
        "    if topic_choice not in topic_mapping:\n",
        "        print(\"Invalid choice. Please run the program again and choose a valid topic.\")\n",
        "    else:\n",
        "        topic = topic_mapping[topic_choice]\n",
        "        difficulty = input(\"Specify the difficulty level (e.g., easy, medium, hard): \")\n",
        "        problem_type = input(\"Do you want a word problem, equation, or theoretical question? \")\n",
        "        language_choice = input(\"Choose the language (en for English, zh for Chinese): \").strip().lower()\n",
        "\n",
        "        # Adjust the prompt to generate more complex problems\n",
        "        language = \"zh\" if language_choice == \"zh\" else \"en\"\n",
        "        math_problem = generate_math_problem(topic, difficulty, problem_type, language)\n",
        "        print(f\"Generated Math Problem: {math_problem}\")\n",
        "\n",
        "        # Generate the answer for the generated complex math problem\n",
        "        math_answer = generate_math_answer(math_problem, language)\n",
        "        print(f\"Generated Math Answer: {math_answer}\")\n"
      ],
      "metadata": {
        "colab": {
          "base_uri": "https://localhost:8080/"
        },
        "id": "jbiVSG-bjWVf",
        "outputId": "91c82b5c-bf69-4bf6-82bd-32e742e596e2"
      },
      "execution_count": 15,
      "outputs": [
        {
          "output_type": "stream",
          "name": "stdout",
          "text": [
            "Choose a math topic from the following options:\n",
            "1. Algebra\n",
            "2. Geometry\n",
            "3. Calculus\n",
            "4. Probability and Statistics\n",
            "5. Linear Algebra\n",
            "Enter the number corresponding to the topic (1-5): 5\n",
            "Specify the difficulty level (e.g., easy, medium, hard): hard\n",
            "Do you want a word problem, equation, or theoretical question? theoretical question\n",
            "Choose the language (en for English, zh for Chinese): zh\n",
            "Generated Math Problem: 題目：證明與應用\n",
            "\n",
            "考慮一個 \\( n \\times n \\) 的矩陣 \\( A \\)，其元素均為實數。假設 \\( A \\) 的特徵值都是實數。\n",
            "\n",
            "1. 證明如果 \\( A \\) 是對稱矩陣，則 \\( A \\) 可以被對角化。\n",
            "2. 證明如果 \\( A \\) 可以被對角化，則存在一個可逆矩陣 \\( P \\) 和一個對角矩陣 \\( D \\)，使得 \\( A = PDP^{-1} \\)。\n",
            "3. 假設 \\( A \\) 的特徵值為 \\( \\lambda_1, \\lambda_2, \\ldots, \\lambda_n \\)，且 \\( A \\) 是可逆的。證明 \\( A^{-1} \\) 的特徵值為 \\( \\frac{1}{\\lambda_1}, \\frac{1}{\\lambda_2}, \\ldots, \\frac{1}{\\lambda_n} \\)。\n",
            "4. 給定 \\( A \\) 的一個特徵向量 \\( v \\) 對應於特徵值 \\( \\lambda \\)，證明 \\( Av = \\lambda v \\)。\n",
            "5. 如果 \\( A \\) 是正定矩陣，證明所有的特徵值 \\( \\lambda_i \\) 都是正的。\n",
            "\n",
            "這個問題涵蓋了線性代數中的幾個重要概念，包括對稱矩陣的對角化、矩陣的可逆性及其特徵值與特徵向量的性質，以及正定矩陣的特性。這是一個理論與證明結合的挑戰性問題，適合對線性代數有深入研究的學生。\n",
            "Generated Math Answer: 這是一個很好的線性代數問題集，涉及到對稱矩陣、對角化、特徵值和特徵向量等概念。下面是對每個問題的解答：\n",
            "\n",
            "1. **證明如果 \\( A \\) 是對稱矩陣，則 \\( A \\) 可以被對角化。**\n",
            "   對稱矩陣 \\( A \\) 滿足 \\( A = A^T \\)。根據譜定理（Spectral Theorem），每個實對稱矩陣都可以被對角化為 \\( A = PDP^T \\)，其中 \\( P \\) 是一個正交矩陣（即 \\( P^T = P^{-1} \\)），\\( D \\) 是對角矩陣，包含 \\( A \\) 的特徵值。這證明了對稱矩陣總是可對角化的。\n",
            "\n",
            "2. **證明如果 \\( A \\) 可以被對角化，則存在一個可逆矩陣 \\( P \\) 和一個對角矩陣 \\( D \\)，使得 \\( A = PDP^{-1} \\)。**\n",
            "   如果矩陣 \\( A \\) 可以被對角化，則根據對角化的定義，存在一個可逆矩陣 \\( P \\) 和一個對角矩陣 \\( D \\)，使得 \\( A = PDP^{-1} \\)。這裡 \\( P \\) 的列向量是 \\( A \\) 的一組線性獨立的特徵向量，而 \\( D \\) 的對角元素是相對應的特徵值。\n",
            "\n",
            "3. **假設 \\( A \\) 的特徵值為 \\( \\lambda_1, \\lambda_2, \\ldots, \\lambda_n \\)，且 \\( A \\) 是可逆的。證明 \\( A^{-1} \\) 的特徵值為 \\( \\frac{1}{\\lambda_1}, \\frac{1}{\\lambda_2}, \\ldots, \\frac{1}{\\lambda_n} \\)。**\n",
            "   如果 \\( A \\) 的特徵值為 \\( \\lambda \\) 且對應的特徵向量為 \\( v \\)，則 \\( Av = \\lambda v \\)。考慮 \\( A^{-1} \\) 作用於 \\( v \\)：\n",
            "   \\[\n",
            "   A^{-1}Av = A^{-1}(\\lambda v) = v = \\lambda A^{-1}v\n",
            "   \\]\n",
            "   由此可得 \\( A^{-1}v = \\frac{1}{\\lambda}v \\)，因此 \\( \\frac{1}{\\lambda} \\) 是 \\( A^{-1} \\) 的特徵值。\n",
            "\n",
            "4. **給定 \\( A \\) 的一個特徵向量 \\( v \\) 對應於特徵值 \\( \\lambda \\)，證明 \\( Av = \\lambda v \\)。**\n",
            "   這是特徵向量和特徵值的定義。如果 \\( v \\) 是 \\( A \\) 的特徵向量，且對應的特徵值為 \\( \\lambda \\)，則根據定義，\\( Av = \\lambda v \\)。\n",
            "\n",
            "5. **如果 \\( A \\) 是正定矩陣，證明所有的特徵值 \\( \\lambda_i \\) 都是正的。**\n",
            "   正定矩陣的定義是對於所有非零向量 \\( x \\)，\\( x^T A x > 0 \\)。考慮 \\( A \\) 的特徵向量 \\( v \\) 和對應的特徵值 \\( \\lambda \\)，我們有 \\( v^T A v = v^T \\\n"
          ]
        }
      ]
    }
  ]
}